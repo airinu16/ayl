{
  "nbformat": 4,
  "nbformat_minor": 0,
  "metadata": {
    "colab": {
      "name": "Untitled0.ipynb",
      "provenance": [],
      "authorship_tag": "ABX9TyMENfWWi6nN+JVq8Nui5TWs",
      "include_colab_link": true
    },
    "kernelspec": {
      "name": "python3",
      "display_name": "Python 3"
    },
    "language_info": {
      "name": "python"
    }
  },
  "cells": [
    {
      "cell_type": "markdown",
      "metadata": {
        "id": "view-in-github",
        "colab_type": "text"
      },
      "source": [
        "<a href=\"https://colab.research.google.com/github/airinu16/ayl/blob/main/Indeedscrp.ipynb\" target=\"_parent\"><img src=\"https://colab.research.google.com/assets/colab-badge.svg\" alt=\"Open In Colab\"/></a>"
      ]
    },
    {
      "cell_type": "code",
      "metadata": {
        "id": "2Zcl8mBh8cbh"
      },
      "source": [
        "from bs4 import BeautifulSoup\n",
        "import requests\n",
        "import csv\n",
        "from time import sleep\n",
        "from random import randint\n",
        "from datetime import datetime\n",
        "\n",
        "def get_url(position, location):\n",
        "    \"\"\"Generate url from position and location\"\"\"\n",
        "    template = 'https://ca.indeed.com/jobs?q={}&l={}'\n",
        "    position = position.replace(' ', '+')\n",
        "    location = location.replace(' ', '+')\n",
        "    url = template.format(position, location)\n",
        "    return url\n",
        "\n",
        "\n",
        "def get_record(card):\n",
        "    \"\"\"Extract job data from a single record\"\"\"\n",
        "    \n",
        "    job_title = card.h2.a.get('title')\n",
        "    company = card.find('span', 'company').text.strip()\n",
        "    job_location = card.find('div', 'recJobLoc').get('data-rc-loc')\n",
        "    post_date = card.find('span', 'date').text\n",
        "    today = datetime.today().strftime('%Y-%m-%d')\n",
        "    summary = card.find('div', 'summary').text.strip().replace('\\n', ' ')\n",
        "    job_url = 'https://ca.indeed.com' + card.h2.a.get('href')\n",
        "\n",
        "    # this does not exists for all jobs, so handle the exceptions\n",
        "    salary_tag = card.find('span', 'salaryText')\n",
        "    if salary_tag:\n",
        "        salary = salary_tag.text.strip()\n",
        "    else:\n",
        "        salary = ''  \n",
        "        \n",
        "    record = (job_title, company, job_location, post_date, today, summary, salary, job_url)\n",
        "    return record\n",
        "\n",
        "\n",
        "def main(position, location):\n",
        "    \"\"\"Run the main program routine\"\"\"\n",
        "    records = []\n",
        "    url = get_url(position, location)\n",
        "    \n",
        "    # extract the job data\n",
        "    while True:\n",
        "        response = requests.get(url)\n",
        "        soup = BeautifulSoup(response.text, 'html.parser')\n",
        "        cards = soup.find_all('div', 'jobsearch-SerpJobCard')\n",
        "        for card in cards:\n",
        "            record = get_record(card)\n",
        "            records.append(record)\n",
        "        try:\n",
        "            url = 'https://ca.indeed.com' + soup.find('a', {'aria-label': 'Next'}).get('href')\n",
        "        except AttributeError:\n",
        "            break\n",
        "        \n",
        "    # save the job data\n",
        "    with open('results.csv', 'w', newline='', encoding='utf-8') as f:\n",
        "        writer = csv.writer(f)\n",
        "        writer.writerow(['JobTitle', 'Company', 'Location', 'PostDate', 'ExtractDate', 'Summary', 'Salary', 'JobUrl'])\n",
        "        writer.writerows(records)\n",
        "\n",
        "        # run the main program\n",
        "main('', 'montreal qc')"
      ],
      "execution_count": 14,
      "outputs": []
    },
    {
      "cell_type": "code",
      "metadata": {
        "id": "w12QCSivACoA"
      },
      "source": [
        ""
      ],
      "execution_count": null,
      "outputs": []
    }
  ]
}